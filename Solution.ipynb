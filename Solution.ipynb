{
  "nbformat": 4,
  "nbformat_minor": 0,
  "metadata": {
    "colab": {
      "provenance": [],
      "authorship_tag": "ABX9TyOrBDWnvaxrQNY48foK8tcl",
      "include_colab_link": true
    },
    "kernelspec": {
      "name": "python3",
      "display_name": "Python 3"
    },
    "language_info": {
      "name": "python"
    }
  },
  "cells": [
    {
      "cell_type": "markdown",
      "metadata": {
        "id": "view-in-github",
        "colab_type": "text"
      },
      "source": [
        "<a href=\"https://colab.research.google.com/github/Kartik-Koul/Summer_School-Assignment-Challenge-Question/blob/main/Solution.ipynb\" target=\"_parent\"><img src=\"https://colab.research.google.com/assets/colab-badge.svg\" alt=\"Open In Colab\"/></a>"
      ]
    },
    {
      "cell_type": "code",
      "execution_count": 9,
      "metadata": {
        "colab": {
          "base_uri": "https://localhost:8080/"
        },
        "id": "i_HQLc2Ppxas",
        "outputId": "730eb3cd-56fe-40d0-9e17-2ca0a6dacd34"
      },
      "outputs": [
        {
          "output_type": "stream",
          "name": "stdout",
          "text": [
            "[1, 2, 3, 'Aman', 'Ram', 'Shyam']\n"
          ]
        }
      ],
      "source": [
        "L = [\"Ram\", 1, \"Shyam\", 2, \"Aman\", 3]\n",
        "\n",
        "L1 = []\n",
        "L2 = []\n",
        "\n",
        "for i in L:\n",
        "  if type(i) == int:\n",
        "    L1.append(i)\n",
        "  else:\n",
        "    L2.append(i)\n",
        "\n",
        "L1.sort()\n",
        "L2.sort()\n",
        "\n",
        "L = L1 + L2\n",
        "\n",
        "print(L)"
      ]
    },
    {
      "cell_type": "code",
      "source": [],
      "metadata": {
        "id": "WvOu0CXxq5WK"
      },
      "execution_count": null,
      "outputs": []
    }
  ]
}